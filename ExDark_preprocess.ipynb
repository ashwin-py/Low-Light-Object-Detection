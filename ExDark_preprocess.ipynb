{
 "cells": [
  {
   "cell_type": "code",
   "execution_count": 7,
   "metadata": {},
   "outputs": [],
   "source": [
    "import os\n",
    "import glob\n",
    "import shutil\n",
    "import numpy as np\n",
    "import pandas as pd\n",
    "from PIL import Image"
   ]
  },
  {
   "cell_type": "markdown",
   "metadata": {},
   "source": [
    "## Images"
   ]
  },
  {
   "cell_type": "code",
   "execution_count": 10,
   "metadata": {},
   "outputs": [],
   "source": [
    "def png_to_jpg(src, dst):\n",
    "    \"\"\"\n",
    "    Converts all images in a image folder to jpg file,\n",
    "    with RGB channels.\n",
    "    \"\"\"\n",
    "    \n",
    "    for dir_, folder, files in os.walk(src):\n",
    "        for file in files:\n",
    "            if file.endswith(('JPG', 'PNG', 'jpg', 'jpeg', 'png', 'JPEG')):\n",
    "                img_path = os.path.join(dir_, file)\n",
    "                save_folder = os.path.join(dst, dir_.split('/')[-1])\n",
    "                img_save_path = os.path.join(save_folder, file.split('.')[0] + '.jpg')\n",
    "\n",
    "                if not os.path.exists(save_folder):\n",
    "                    os.mkdir(save_folder)\n",
    "\n",
    "                img = Image.open(img_path)\n",
    "                img = img.convert('RGB')\n",
    "                img.save(img_save_path)\n",
    "    print('Completed')"
   ]
  },
  {
   "cell_type": "code",
   "execution_count": null,
   "metadata": {},
   "outputs": [],
   "source": [
    "png_to_jpg('/home/user/Documents/CV/Datasets/ExDark', '/home/user/Documents/CV/ExDark_processed/')"
   ]
  },
  {
   "cell_type": "markdown",
   "metadata": {},
   "source": [
    "## Train test Split"
   ]
  },
  {
   "cell_type": "code",
   "execution_count": 15,
   "metadata": {},
   "outputs": [],
   "source": [
    "data_dir = '/home/user/Documents/CV/ExDark_processed/'\n",
    "# Training data dir\n",
    "training_dir = '/home/user/Documents/CV/train/'\n",
    " \n",
    "# Test data dir\n",
    "testing_dir = '/home/user/Documents/CV/test/'\n",
    " \n",
    "# Ratio of training and testing data\n",
    "train_test_ratio = 0.75 \n",
    "\n",
    "def split_dataset_into_test_and_train_sets(all_data_dir = data_dir, training_data_dir = training_dir, testing_data_dir=testing_dir, train_test_ratio = 0.8):\n",
    " # recreate test and train directories if they don't exist\n",
    "    if not os.path.exists(training_data_dir):\n",
    "        os.mkdir(training_data_dir)\n",
    "\n",
    "    if not os.path.exists(testing_data_dir):\n",
    "        os.mkdir(testing_data_dir)               \n",
    "\n",
    "    num_training_files = 0\n",
    "    num_testing_files = 0\n",
    " # iterate through the data directory \n",
    "    for subdir, dirs, files in os.walk(all_data_dir):\n",
    "        category_name = os.path.basename(subdir)\n",
    "        if category_name == os.path.basename(all_data_dir):\n",
    "            continue\n",
    "            \n",
    "        file_list = glob.glob(subdir + '/*.jpg')\n",
    "\n",
    "        print(str(category_name) + ' has ' + str(len(files)) + ' images') \n",
    "        random_set = np.random.permutation((file_list))\n",
    "        \n",
    "         # copy percentage of data from each category to train and test directory\n",
    "        train_list = random_set[:round(len(random_set)*(train_test_ratio))] \n",
    "        test_list = random_set[-round(len(random_set)*(1-train_test_ratio)):]\n",
    "        \n",
    "        for lists in train_list : \n",
    "            shutil.copy(lists, training_data_dir + '/' )\n",
    "            num_training_files += 1\n",
    "        \n",
    "        for lists in test_list : \n",
    "            shutil.copy(lists, testing_data_dir + '/' )\n",
    "            num_testing_files += 1\n",
    "    print(\"Processed \" + str(num_training_files) + \" training files.\")\n",
    "    print(\"Processed \" + str(num_testing_files) + \" testing files.\")"
   ]
  },
  {
   "cell_type": "code",
   "execution_count": null,
   "metadata": {},
   "outputs": [],
   "source": [
    "split_dataset_into_test_and_train_sets()"
   ]
  },
  {
   "cell_type": "markdown",
   "metadata": {},
   "source": [
    "## Annotations"
   ]
  },
  {
   "cell_type": "code",
   "execution_count": null,
   "metadata": {},
   "outputs": [],
   "source": [
    "def txt_files_to_csv(img_folder, txt_folder, save_path):\n",
    "    \"\"\"\n",
    "    Merge all text files with BBOX and Class info to a single csv.\n",
    "    \"\"\"\n",
    "    df = pd.DataFrame(columns=['filename', 'width', 'height', 'class', 'xmin', 'ymin', 'xmax', 'ymax'])\n",
    "    index = 0\n",
    "    for dir_, folder, files in os.walk(img_folder):\n",
    "        for img_file in files:\n",
    "                txt_file = glob.glob(txt_folder + f\"{img_file.split('.')[0]}*.txt\")[0]\n",
    "                lines = open(txt_file, 'r').readlines()\n",
    "                img = Image.open(os.path.join(img_path, img_file))\n",
    "                for line in lines[1:]:\n",
    "                    info = line.split(' ')[:5]\n",
    "                    df_test.loc[count, : ] = [img_file, img.width, img.height, info[0], \n",
    "                                              info[1], info[2], info[3], info[4]]\n",
    "                    index += 1\n",
    "        #     break\n",
    "        \n",
    "    # Below addition is done, as the bbox info in the text file is xmin, ymin, width, height\n",
    "    # This converts the bbox info to xmin, ymin, xmax, ymax\n",
    "    df['xmax'] = df['xmax'].apply(lambda x:int(x)) + df['xmin'].apply(lambda x:int(x))\n",
    "    df['ymax'] = df['ymax'].apply(lambda x:int(x)) + df['ymin'].apply(lambda x:int(x))\n",
    "    \n",
    "    # Since all images sorted according to classes, we need to shuffle to make train data random\n",
    "    df = df.sample(frac=1).reset_index().drop('index', axis=1)\n",
    "    df.to_csv(save_path+'/annotations.csv', index=False)\n",
    "    print('Completed')"
   ]
  },
  {
   "cell_type": "code",
   "execution_count": null,
   "metadata": {},
   "outputs": [],
   "source": [
    "txt_files_to_csv()"
   ]
  }
 ],
 "metadata": {
  "kernelspec": {
   "display_name": "Python 3",
   "language": "python",
   "name": "python3"
  },
  "language_info": {
   "codemirror_mode": {
    "name": "ipython",
    "version": 3
   },
   "file_extension": ".py",
   "mimetype": "text/x-python",
   "name": "python",
   "nbconvert_exporter": "python",
   "pygments_lexer": "ipython3",
   "version": "3.8.5"
  }
 },
 "nbformat": 4,
 "nbformat_minor": 5
}
